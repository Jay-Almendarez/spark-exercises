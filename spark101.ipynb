{
 "cells": [
  {
   "cell_type": "markdown",
   "id": "68603c6c-c0ac-4571-8b7a-09d5b8f92ee7",
   "metadata": {},
   "source": [
    "# Exercises"
   ]
  },
  {
   "cell_type": "code",
   "execution_count": 2,
   "id": "273c5b05-9cb9-4731-9351-e32d962e8c09",
   "metadata": {
    "tags": []
   },
   "outputs": [
    {
     "name": "stderr",
     "output_type": "stream",
     "text": [
      "Setting default log level to \"WARN\".\n",
      "To adjust logging level use sc.setLogLevel(newLevel). For SparkR, use setLogLevel(newLevel).\n",
      "23/10/25 12:03:17 WARN NativeCodeLoader: Unable to load native-hadoop library for your platform... using builtin-java classes where applicable\n",
      "23/10/25 12:03:18 WARN Utils: Service 'SparkUI' could not bind on port 4040. Attempting port 4041.\n"
     ]
    }
   ],
   "source": [
    "# imports\n",
    "import pyspark\n",
    "import pandas as pd\n",
    "import numpy as np\n",
    "from pydataset import data\n",
    "from pyspark.sql import functions as F\n",
    "from pyspark.sql.functions import regexp_extract, regexp_replace\n",
    "spark = pyspark.sql.SparkSession.builder.getOrCreate()"
   ]
  },
  {
   "cell_type": "markdown",
   "id": "8b7d4efe-d14f-4026-a410-3201d667fab9",
   "metadata": {},
   "source": [
    "## Create a spark data frame that contains your favorite programming languages.\n",
    "\n",
    "- The name of the column should be language\n",
    "- View the schema of the dataframe\n",
    "- Output the shape of the dataframe\n",
    "- Show the first 5 records in the dataframe"
   ]
  },
  {
   "cell_type": "code",
   "execution_count": 264,
   "id": "732c6190-82c4-4ca3-abf6-59807bf14caf",
   "metadata": {
    "tags": []
   },
   "outputs": [
    {
     "ename": "TypeError",
     "evalue": "'dict' object is not callable",
     "output_type": "error",
     "traceback": [
      "\u001b[0;31m---------------------------------------------------------------------------\u001b[0m",
      "\u001b[0;31mTypeError\u001b[0m                                 Traceback (most recent call last)",
      "Cell \u001b[0;32mIn[264], line 1\u001b[0m\n\u001b[0;32m----> 1\u001b[0m df \u001b[38;5;241m=\u001b[39m pd\u001b[38;5;241m.\u001b[39mDataFrame({\u001b[38;5;124m'\u001b[39m\u001b[38;5;124mlanguage\u001b[39m\u001b[38;5;124m'\u001b[39m: [\u001b[38;5;124m'\u001b[39m\u001b[38;5;124mpython\u001b[39m\u001b[38;5;124m'\u001b[39m, \u001b[38;5;124m'\u001b[39m\u001b[38;5;124mjava\u001b[39m\u001b[38;5;124m'\u001b[39m, \u001b[38;5;124m'\u001b[39m\u001b[38;5;124mtypescript\u001b[39m\u001b[38;5;124m'\u001b[39m, \u001b[38;5;124m'\u001b[39m\u001b[38;5;124mruby\u001b[39m\u001b[38;5;124m'\u001b[39m, \u001b[38;5;124m'\u001b[39m\u001b[38;5;124mc++\u001b[39m\u001b[38;5;124m'\u001b[39m, \u001b[38;5;124m'\u001b[39m\u001b[38;5;124mhtml\u001b[39m\u001b[38;5;124m'\u001b[39m]})\n",
      "\u001b[0;31mTypeError\u001b[0m: 'dict' object is not callable"
     ]
    }
   ],
   "source": [
    "df = pd.DataFrame({'language': ['python', 'java', 'typescript', 'ruby', 'c++', 'html']})"
   ]
  },
  {
   "cell_type": "code",
   "execution_count": null,
   "id": "bcb3e2b4-4cd3-48c2-9f4d-314af6102eb3",
   "metadata": {},
   "outputs": [],
   "source": [
    "df"
   ]
  },
  {
   "cell_type": "markdown",
   "id": "b1bda74a-bb62-4fa4-b4a5-fcde82102dc4",
   "metadata": {},
   "source": [
    "### "
   ]
  },
  {
   "cell_type": "code",
   "execution_count": null,
   "id": "2f471e4b-a394-4b79-98c7-8ce30e0a0069",
   "metadata": {},
   "outputs": [],
   "source": []
  },
  {
   "cell_type": "markdown",
   "id": "e2fb72ee-5969-4c79-aa7d-39cb385efcea",
   "metadata": {},
   "source": [
    "## Load the mpg dataset as a spark dataframe.\n",
    "\n",
    "- a. Create 1 column of output that contains a message like the one below:\n",
    "\n",
    "The 1999 audi a4 has a 4 cylinder engine.\n",
    "\n",
    "Do this for each vehicle\n",
    "\n",
    "- b. Transform the trans column so that it only contains either manual or auto."
   ]
  },
  {
   "cell_type": "markdown",
   "id": "cc655475-f0a6-49f2-9e2c-edab72936d2b",
   "metadata": {},
   "source": [
    "### "
   ]
  },
  {
   "cell_type": "code",
   "execution_count": 4,
   "id": "48ac4057-4ee7-4004-a6ce-8a391d3981f2",
   "metadata": {
    "tags": []
   },
   "outputs": [
    {
     "name": "stdout",
     "output_type": "stream",
     "text": [
      "+------------+-----+-----+----+---+----------+---+---+---+---+-------+\n",
      "|manufacturer|model|displ|year|cyl|     trans|drv|cty|hwy| fl|  class|\n",
      "+------------+-----+-----+----+---+----------+---+---+---+---+-------+\n",
      "|        audi|   a4|  1.8|1999|  4|  auto(l5)|  f| 18| 29|  p|compact|\n",
      "|        audi|   a4|  1.8|1999|  4|manual(m5)|  f| 21| 29|  p|compact|\n",
      "|        audi|   a4|  2.0|2008|  4|manual(m6)|  f| 20| 31|  p|compact|\n",
      "|        audi|   a4|  2.0|2008|  4|  auto(av)|  f| 21| 30|  p|compact|\n",
      "|        audi|   a4|  2.8|1999|  6|  auto(l5)|  f| 16| 26|  p|compact|\n",
      "+------------+-----+-----+----+---+----------+---+---+---+---+-------+\n",
      "only showing top 5 rows\n",
      "\n"
     ]
    }
   ],
   "source": [
    "# pull in the mpg dataset from data\n",
    "mpg = data('mpg')\n",
    "# transform that dataset into a spark dataframe\n",
    "mpg = spark.createDataFrame(mpg)\n",
    "# show me the top five of the new spark dataframe\n",
    "mpg.show(5)"
   ]
  },
  {
   "cell_type": "code",
   "execution_count": 39,
   "id": "07d6db1e-3a86-4a81-b051-55d56736d8c2",
   "metadata": {
    "tags": []
   },
   "outputs": [
    {
     "name": "stdout",
     "output_type": "stream",
     "text": [
      "+---------------------------------------------------+\n",
      "|message                                            |\n",
      "+---------------------------------------------------+\n",
      "|The 1999 a4 has a 4 cylinder engine                |\n",
      "|The 1999 a4 has a 4 cylinder engine                |\n",
      "|The 2008 a4 has a 4 cylinder engine                |\n",
      "|The 2008 a4 has a 4 cylinder engine                |\n",
      "|The 1999 a4 has a 6 cylinder engine                |\n",
      "|The 1999 a4 has a 6 cylinder engine                |\n",
      "|The 2008 a4 has a 6 cylinder engine                |\n",
      "|The 1999 a4 quattro has a 4 cylinder engine        |\n",
      "|The 1999 a4 quattro has a 4 cylinder engine        |\n",
      "|The 2008 a4 quattro has a 4 cylinder engine        |\n",
      "|The 2008 a4 quattro has a 4 cylinder engine        |\n",
      "|The 1999 a4 quattro has a 6 cylinder engine        |\n",
      "|The 1999 a4 quattro has a 6 cylinder engine        |\n",
      "|The 2008 a4 quattro has a 6 cylinder engine        |\n",
      "|The 2008 a4 quattro has a 6 cylinder engine        |\n",
      "|The 1999 a6 quattro has a 6 cylinder engine        |\n",
      "|The 2008 a6 quattro has a 6 cylinder engine        |\n",
      "|The 2008 a6 quattro has a 8 cylinder engine        |\n",
      "|The 2008 c1500 suburban 2wd has a 8 cylinder engine|\n",
      "|The 2008 c1500 suburban 2wd has a 8 cylinder engine|\n",
      "+---------------------------------------------------+\n",
      "only showing top 20 rows\n",
      "\n"
     ]
    }
   ],
   "source": [
    "mpg.select(\n",
    "    F.concat(\n",
    "        F.lit('The '), \n",
    "        (mpg.year).cast('string'), \n",
    "        F.lit(' '), \n",
    "        (mpg.model).cast('string'),\n",
    "        F.lit(' '), \n",
    "        F.lit('has a'),\n",
    "        F.lit(' '),\n",
    "        (mpg.cyl).cast('string'),\n",
    "        F.lit(' '),\n",
    "        F.lit('cylinder engine')).alias('message')\n",
    ").show(truncate=False)"
   ]
  },
  {
   "cell_type": "code",
   "execution_count": 41,
   "id": "54211d1c-2d6d-4353-9cf3-73a30c438879",
   "metadata": {
    "tags": []
   },
   "outputs": [
    {
     "name": "stdout",
     "output_type": "stream",
     "text": [
      "+----------+\n",
      "|     trans|\n",
      "+----------+\n",
      "|  auto(l5)|\n",
      "|manual(m5)|\n",
      "|manual(m6)|\n",
      "|  auto(av)|\n",
      "|  auto(l5)|\n",
      "|manual(m5)|\n",
      "|  auto(av)|\n",
      "|manual(m5)|\n",
      "|  auto(l5)|\n",
      "|manual(m6)|\n",
      "|  auto(s6)|\n",
      "|  auto(l5)|\n",
      "|manual(m5)|\n",
      "|  auto(s6)|\n",
      "|manual(m6)|\n",
      "|  auto(l5)|\n",
      "|  auto(s6)|\n",
      "|  auto(s6)|\n",
      "|  auto(l4)|\n",
      "|  auto(l4)|\n",
      "+----------+\n",
      "only showing top 20 rows\n",
      "\n"
     ]
    }
   ],
   "source": [
    "# it looks like we'll use regex here\n",
    "mpg.select('trans').show()"
   ]
  },
  {
   "cell_type": "code",
   "execution_count": 45,
   "id": "b9e0579b-4595-42f1-91d6-7b00064c5446",
   "metadata": {
    "tags": []
   },
   "outputs": [
    {
     "name": "stdout",
     "output_type": "stream",
     "text": [
      "+----------+--------------+\n",
      "|trans     |city_state_zip|\n",
      "+----------+--------------+\n",
      "|auto(l5)  |auto          |\n",
      "|manual(m5)|manual        |\n",
      "|manual(m6)|manual        |\n",
      "|auto(av)  |auto          |\n",
      "|auto(l5)  |auto          |\n",
      "|manual(m5)|manual        |\n",
      "|auto(av)  |auto          |\n",
      "|manual(m5)|manual        |\n",
      "|auto(l5)  |auto          |\n",
      "|manual(m6)|manual        |\n",
      "|auto(s6)  |auto          |\n",
      "|auto(l5)  |auto          |\n",
      "|manual(m5)|manual        |\n",
      "|auto(s6)  |auto          |\n",
      "|manual(m6)|manual        |\n",
      "|auto(l5)  |auto          |\n",
      "|auto(s6)  |auto          |\n",
      "|auto(s6)  |auto          |\n",
      "|auto(l4)  |auto          |\n",
      "|auto(l4)  |auto          |\n",
      "+----------+--------------+\n",
      "only showing top 20 rows\n",
      "\n"
     ]
    }
   ],
   "source": [
    "mpg.select(\n",
    "    \"trans\",\n",
    "    F.regexp_extract('trans', r'^(\\w+)', 1).alias(\"city_state_zip\")).show(truncate=False)"
   ]
  },
  {
   "cell_type": "markdown",
   "id": "49e8fe04-7a69-4298-9563-45b6e02fac48",
   "metadata": {},
   "source": [
    "## Load the tips dataset as a spark dataframe.\n",
    "\n",
    "- What percentage of observations are smokers?\n",
    "- Create a column that contains the tip percentage\n",
    "- Calculate the average tip percentage for each combination of sex and smoker."
   ]
  },
  {
   "cell_type": "markdown",
   "id": "46f69a38-84b2-419b-9d20-6d45fdd8a93e",
   "metadata": {},
   "source": [
    "### "
   ]
  },
  {
   "cell_type": "code",
   "execution_count": 47,
   "id": "40a39c68-e8c4-4b30-bb58-efda9a9ce17b",
   "metadata": {
    "tags": []
   },
   "outputs": [
    {
     "name": "stdout",
     "output_type": "stream",
     "text": [
      "+----------+----+------+------+---+------+----+\n",
      "|total_bill| tip|   sex|smoker|day|  time|size|\n",
      "+----------+----+------+------+---+------+----+\n",
      "|     16.99|1.01|Female|    No|Sun|Dinner|   2|\n",
      "|     10.34|1.66|  Male|    No|Sun|Dinner|   3|\n",
      "|     21.01| 3.5|  Male|    No|Sun|Dinner|   3|\n",
      "|     23.68|3.31|  Male|    No|Sun|Dinner|   2|\n",
      "|     24.59|3.61|Female|    No|Sun|Dinner|   4|\n",
      "+----------+----+------+------+---+------+----+\n",
      "only showing top 5 rows\n",
      "\n"
     ]
    }
   ],
   "source": [
    "tips = data('tips')\n",
    "tips = spark.createDataFrame(tips)\n",
    "tips.show(5)"
   ]
  },
  {
   "cell_type": "code",
   "execution_count": 94,
   "id": "22ca6624-d7da-4584-abe4-63f0d1bf3da0",
   "metadata": {
    "tags": []
   },
   "outputs": [
    {
     "data": {
      "text/plain": [
       "38.11"
      ]
     },
     "execution_count": 94,
     "metadata": {},
     "output_type": "execute_result"
    }
   ],
   "source": [
    "round((tips.select(tips.smoker).where(tips.smoker == 'Yes').count()) / (tips.select(tips.smoker).count())*100,2)"
   ]
  },
  {
   "cell_type": "code",
   "execution_count": 120,
   "id": "33e47837-32aa-4e2a-af85-e631b465e94b",
   "metadata": {
    "tags": []
   },
   "outputs": [
    {
     "name": "stdout",
     "output_type": "stream",
     "text": [
      "+--------------+----------+----+------+------+---+------+----+\n",
      "|tip_percentage|total_bill| tip|   sex|smoker|day|  time|size|\n",
      "+--------------+----------+----+------+------+---+------+----+\n",
      "|          5.94|     16.99|1.01|Female|    No|Sun|Dinner|   2|\n",
      "|         16.05|     10.34|1.66|  Male|    No|Sun|Dinner|   3|\n",
      "|         16.66|     21.01| 3.5|  Male|    No|Sun|Dinner|   3|\n",
      "|         13.98|     23.68|3.31|  Male|    No|Sun|Dinner|   2|\n",
      "|         14.68|     24.59|3.61|Female|    No|Sun|Dinner|   4|\n",
      "|         18.62|     25.29|4.71|  Male|    No|Sun|Dinner|   4|\n",
      "|         22.81|      8.77| 2.0|  Male|    No|Sun|Dinner|   2|\n",
      "|         11.61|     26.88|3.12|  Male|    No|Sun|Dinner|   4|\n",
      "|         13.03|     15.04|1.96|  Male|    No|Sun|Dinner|   2|\n",
      "|         21.85|     14.78|3.23|  Male|    No|Sun|Dinner|   2|\n",
      "|         16.65|     10.27|1.71|  Male|    No|Sun|Dinner|   2|\n",
      "|         14.18|     35.26| 5.0|Female|    No|Sun|Dinner|   4|\n",
      "|         10.18|     15.42|1.57|  Male|    No|Sun|Dinner|   2|\n",
      "|         16.28|     18.43| 3.0|  Male|    No|Sun|Dinner|   4|\n",
      "|         20.36|     14.83|3.02|Female|    No|Sun|Dinner|   2|\n",
      "|         18.16|     21.58|3.92|  Male|    No|Sun|Dinner|   2|\n",
      "|         16.17|     10.33|1.67|Female|    No|Sun|Dinner|   3|\n",
      "|         22.77|     16.29|3.71|  Male|    No|Sun|Dinner|   3|\n",
      "|         20.62|     16.97| 3.5|Female|    No|Sun|Dinner|   3|\n",
      "|         16.22|     20.65|3.35|  Male|    No|Sat|Dinner|   3|\n",
      "+--------------+----------+----+------+------+---+------+----+\n",
      "only showing top 20 rows\n",
      "\n"
     ]
    }
   ],
   "source": [
    "tips.select((F.round(F.expr('tip / total_bill')*100,2).alias('tip_percentage')), 'total_bill', 'tip', 'sex', 'smoker', 'day', 'time', 'size').show()"
   ]
  },
  {
   "cell_type": "code",
   "execution_count": 131,
   "id": "dfdef3c2-c22e-48cc-8e92-2cab26b13849",
   "metadata": {
    "tags": []
   },
   "outputs": [
    {
     "name": "stdout",
     "output_type": "stream",
     "text": [
      "+------+------+----------------------+\n",
      "|   sex|smoker|average_tip_percentage|\n",
      "+------+------+----------------------+\n",
      "|  Male|    No|     16.06659793814433|\n",
      "|Female|    No|     15.69111111111111|\n",
      "|  Male|   Yes|    15.276666666666667|\n",
      "|Female|   Yes|    18.214545454545455|\n",
      "+------+------+----------------------+\n",
      "\n"
     ]
    }
   ],
   "source": [
    "tips.groupBy('sex', 'smoker').agg(F.avg(F.round((tips.tip) / (tips.total_bill)*100,2)).alias('average_tip_percentage')).show(5)"
   ]
  },
  {
   "cell_type": "markdown",
   "id": "6a5e3483-8cb3-43e1-a5dd-5e7dbd0a03cb",
   "metadata": {
    "tags": []
   },
   "source": [
    "## Use the Seattle weather dataset referenced in the lesson to answer the questions below."
   ]
  },
  {
   "cell_type": "code",
   "execution_count": 132,
   "id": "faeeb7cb-982a-4398-afc6-90f47f9a96db",
   "metadata": {
    "tags": []
   },
   "outputs": [],
   "source": [
    "from vega_datasets import data"
   ]
  },
  {
   "cell_type": "code",
   "execution_count": 165,
   "id": "964da115-66f5-4227-9ab8-283afbe688d1",
   "metadata": {
    "tags": []
   },
   "outputs": [
    {
     "name": "stdout",
     "output_type": "stream",
     "text": [
      "+----------+-------------+--------+--------+----+-------+\n",
      "|      date|precipitation|temp_max|temp_min|wind|weather|\n",
      "+----------+-------------+--------+--------+----+-------+\n",
      "|2012-01-01|          0.0|    12.8|     5.0| 4.7|drizzle|\n",
      "|2012-01-02|         10.9|    10.6|     2.8| 4.5|   rain|\n",
      "|2012-01-03|          0.8|    11.7|     7.2| 2.3|   rain|\n",
      "|2012-01-04|         20.3|    12.2|     5.6| 4.7|   rain|\n",
      "|2012-01-05|          1.3|     8.9|     2.8| 6.1|   rain|\n",
      "|2012-01-06|          2.5|     4.4|     2.2| 2.2|   rain|\n",
      "+----------+-------------+--------+--------+----+-------+\n",
      "only showing top 6 rows\n",
      "\n"
     ]
    }
   ],
   "source": [
    "weather = data.seattle_weather().assign(date=lambda df: df.date.astype(str))\n",
    "weather = spark.createDataFrame(weather)\n",
    "weather.show(6)"
   ]
  },
  {
   "cell_type": "markdown",
   "id": "82d64f14-9e99-4d73-866d-fd337d5d59d1",
   "metadata": {
    "tags": []
   },
   "source": [
    "### - Convert the temperatures to fahrenheit."
   ]
  },
  {
   "cell_type": "code",
   "execution_count": 267,
   "id": "cd0a92be-7da5-4d01-9130-b82ab42082db",
   "metadata": {
    "tags": []
   },
   "outputs": [],
   "source": [
    "weather = weather.withColumn('temp_max', F.round(((weather.temp_max *9)/5)+32))\n",
    "weather = weather.withColumn('temp_min', F.round(((weather.temp_min *9)/5)+32))"
   ]
  },
  {
   "cell_type": "code",
   "execution_count": 212,
   "id": "c782f3b3-e35a-4ea3-bd8e-3b7abdd5f2da",
   "metadata": {
    "tags": []
   },
   "outputs": [
    {
     "name": "stdout",
     "output_type": "stream",
     "text": [
      "+----------+-------------+--------+--------+----+-------+\n",
      "|      date|precipitation|temp_max|temp_min|wind|weather|\n",
      "+----------+-------------+--------+--------+----+-------+\n",
      "|2012-01-01|          0.0|   144.0|   142.0| 4.7|drizzle|\n",
      "|2012-01-02|         10.9|   142.0|   140.0| 4.5|   rain|\n",
      "|2012-01-03|          0.8|   142.0|   142.0| 2.3|   rain|\n",
      "|2012-01-04|         20.3|   144.0|   142.0| 4.7|   rain|\n",
      "|2012-01-05|          1.3|   142.0|   140.0| 6.1|   rain|\n",
      "+----------+-------------+--------+--------+----+-------+\n",
      "only showing top 5 rows\n",
      "\n"
     ]
    }
   ],
   "source": [
    "weather.show(5)"
   ]
  },
  {
   "cell_type": "markdown",
   "id": "c35f5d07-e304-4872-b3a3-58d6518845b5",
   "metadata": {
    "tags": []
   },
   "source": [
    "### - Which month has the most rain, on average?"
   ]
  },
  {
   "cell_type": "code",
   "execution_count": 269,
   "id": "08be635b-a2ec-4fe7-ab28-6f472de1ad2a",
   "metadata": {
    "tags": []
   },
   "outputs": [
    {
     "name": "stdout",
     "output_type": "stream",
     "text": [
      "+-----+-------------------+\n",
      "|month|       avg_rainfall|\n",
      "+-----+-------------------+\n",
      "|    7|0.38870967741935486|\n",
      "|    6| 1.1075000000000002|\n",
      "|    8| 1.3201612903225806|\n",
      "|    5| 1.6733870967741935|\n",
      "|    9| 1.9624999999999997|\n",
      "|    4|  3.128333333333333|\n",
      "|    2|  3.734513274336283|\n",
      "|    1| 3.7580645161290316|\n",
      "|   10|  4.059677419354839|\n",
      "|    3|  4.888709677419355|\n",
      "|   12|  5.021774193548389|\n",
      "|   11|  5.354166666666667|\n",
      "+-----+-------------------+\n",
      "\n"
     ]
    }
   ],
   "source": [
    "weather.withColumn(\n",
    "    'month', F.month(F.col('date')\n",
    "                    )\n",
    ").groupBy(\n",
    "    'month'\n",
    ").agg(\n",
    "    F.avg(weather.precipitation).alias('avg_rainfall')\n",
    ").sort('avg_rainfall').show()"
   ]
  },
  {
   "cell_type": "markdown",
   "id": "1b426d80-d2a7-44b9-af81-e4ce98a8b1b7",
   "metadata": {},
   "source": [
    "#### November has the most rainfall"
   ]
  },
  {
   "cell_type": "markdown",
   "id": "5ad599f8-a617-49d8-8dde-d5a28cd521cc",
   "metadata": {
    "tags": []
   },
   "source": [
    "### - Which year was the windiest?"
   ]
  },
  {
   "cell_type": "code",
   "execution_count": 199,
   "id": "47ee4a50-0149-4f2e-9bc8-d96d0fe1dbe4",
   "metadata": {
    "tags": []
   },
   "outputs": [
    {
     "name": "stdout",
     "output_type": "stream",
     "text": [
      "+----+----------+\n",
      "|year|windy_days|\n",
      "+----+----------+\n",
      "|2015|       8.0|\n",
      "|2013|       8.8|\n",
      "|2014|       8.8|\n",
      "|2012|       9.5|\n",
      "+----+----------+\n",
      "\n"
     ]
    }
   ],
   "source": [
    "weather.withColumn(\n",
    "    'year', F.year(F.col('date')\n",
    "                    )\n",
    ").groupBy(\n",
    "    'year'\n",
    ").agg(\n",
    "    F.max(weather.wind).alias('windy_days')\n",
    ").sort('windy_days').show()"
   ]
  },
  {
   "cell_type": "markdown",
   "id": "6844def2-29aa-445d-8f3e-194c908fd405",
   "metadata": {},
   "source": [
    "#### 2012 appears to be the windiest"
   ]
  },
  {
   "cell_type": "markdown",
   "id": "f860da11-13d0-4dfd-8dcd-a1c0a582b3f5",
   "metadata": {
    "tags": []
   },
   "source": [
    "### - What is the most frequent type of weather in January?"
   ]
  },
  {
   "cell_type": "code",
   "execution_count": 210,
   "id": "0055cd47-cf3e-479e-9f1b-5c9fcb9f72b5",
   "metadata": {
    "tags": []
   },
   "outputs": [
    {
     "name": "stdout",
     "output_type": "stream",
     "text": [
      "+-----+-------+\n",
      "|month|weather|\n",
      "+-----+-------+\n",
      "|    1|    sun|\n",
      "|    2|    sun|\n",
      "|    3|    sun|\n",
      "|    4|    sun|\n",
      "|    5|    sun|\n",
      "|    6|    sun|\n",
      "|    7|    sun|\n",
      "|    8|    sun|\n",
      "|    9|    sun|\n",
      "|   10|    sun|\n",
      "|   11|    sun|\n",
      "|   12|    sun|\n",
      "+-----+-------+\n",
      "\n"
     ]
    }
   ],
   "source": [
    "weather.withColumn(\n",
    "    'month', F.month(F.col('date')\n",
    "                    )\n",
    ").groupBy(\n",
    "    'month'\n",
    ").agg(\n",
    "    F.max(weather.weather).alias('weather')\n",
    ").sort('weather').show()"
   ]
  },
  {
   "cell_type": "markdown",
   "id": "b1588c4f-29ec-4d41-92f8-ee71fd9fa0b1",
   "metadata": {},
   "source": [
    "#### Sun"
   ]
  },
  {
   "cell_type": "markdown",
   "id": "8ff5a3c6-e240-4acd-99de-dbdf995eea16",
   "metadata": {
    "tags": []
   },
   "source": [
    "### - What is the average high and low temperature on sunny days in July in 2013 and 2014?"
   ]
  },
  {
   "cell_type": "code",
   "execution_count": 228,
   "id": "b356b684-2cde-4bcb-9b6d-9bd3726c3396",
   "metadata": {
    "tags": []
   },
   "outputs": [],
   "source": [
    "weather = weather.withColumn('month', F.month(F.col('date')))\n",
    "weather = weather.withColumn('year', F.year(F.col('date')))"
   ]
  },
  {
   "cell_type": "code",
   "execution_count": 229,
   "id": "aa9135cf-b3dd-41c5-abbc-1924388cb647",
   "metadata": {
    "tags": []
   },
   "outputs": [
    {
     "name": "stdout",
     "output_type": "stream",
     "text": [
      "+----------+-------------+--------+--------+----+-------+-----+----+\n",
      "|      date|precipitation|temp_max|temp_min|wind|weather|month|year|\n",
      "+----------+-------------+--------+--------+----+-------+-----+----+\n",
      "|2012-01-01|          0.0|   144.0|   142.0| 4.7|drizzle|    1|2012|\n",
      "|2012-01-02|         10.9|   142.0|   140.0| 4.5|   rain|    1|2012|\n",
      "|2012-01-03|          0.8|   142.0|   142.0| 2.3|   rain|    1|2012|\n",
      "|2012-01-04|         20.3|   144.0|   142.0| 4.7|   rain|    1|2012|\n",
      "|2012-01-05|          1.3|   142.0|   140.0| 6.1|   rain|    1|2012|\n",
      "|2012-01-06|          2.5|   140.0|   140.0| 2.2|   rain|    1|2012|\n",
      "|2012-01-07|          0.0|   142.0|   140.0| 2.3|   rain|    1|2012|\n",
      "|2012-01-08|          0.0|   142.0|   140.0| 2.0|    sun|    1|2012|\n",
      "|2012-01-09|          4.3|   142.0|   142.0| 3.4|   rain|    1|2012|\n",
      "|2012-01-10|          1.0|   142.0|   140.0| 3.4|   rain|    1|2012|\n",
      "|2012-01-11|          0.0|   142.0|   138.0| 5.1|    sun|    1|2012|\n",
      "|2012-01-12|          0.0|   142.0|   138.0| 1.9|    sun|    1|2012|\n",
      "|2012-01-13|          0.0|   140.0|   138.0| 1.3|    sun|    1|2012|\n",
      "|2012-01-14|          4.1|   140.0|   140.0| 5.3|   snow|    1|2012|\n",
      "|2012-01-15|          5.3|   140.0|   138.0| 3.2|   snow|    1|2012|\n",
      "|2012-01-16|          2.5|   140.0|   138.0| 5.0|   snow|    1|2012|\n",
      "|2012-01-17|          8.1|   140.0|   140.0| 5.6|   snow|    1|2012|\n",
      "|2012-01-18|         19.8|   140.0|   138.0| 5.0|   snow|    1|2012|\n",
      "|2012-01-19|         15.2|   138.0|   138.0| 1.6|   snow|    1|2012|\n",
      "|2012-01-20|         13.5|   142.0|   138.0| 2.3|   snow|    1|2012|\n",
      "+----------+-------------+--------+--------+----+-------+-----+----+\n",
      "only showing top 20 rows\n",
      "\n"
     ]
    }
   ],
   "source": [
    "weather.show()"
   ]
  },
  {
   "cell_type": "code",
   "execution_count": 280,
   "id": "e3b3c737-1676-43ea-a255-ccd0598acf62",
   "metadata": {
    "tags": []
   },
   "outputs": [
    {
     "name": "stdout",
     "output_type": "stream",
     "text": [
      "+-----------------------+\n",
      "|round(avg(temp_max), 2)|\n",
      "+-----------------------+\n",
      "|                 297.69|\n",
      "+-----------------------+\n",
      "\n"
     ]
    }
   ],
   "source": [
    "# need average of both high and low temperatures \n",
    "# where weather = 'sunny'\n",
    "# and in July of only 2013 and 2014\n",
    "weather.filter(weather.weather == 'sun').where(weather.year.isin(2013, 2014)).where(weather.month == '7').agg(F.round(F.avg(weather.temp_max),2)).show()"
   ]
  },
  {
   "cell_type": "code",
   "execution_count": 231,
   "id": "d79b8496-53cd-44ac-9840-3d6eb6e161c6",
   "metadata": {
    "tags": []
   },
   "outputs": [
    {
     "name": "stdout",
     "output_type": "stream",
     "text": [
      "+----------+-------------+--------+--------+----+-------+-----+----+\n",
      "|      date|precipitation|temp_max|temp_min|wind|weather|month|year|\n",
      "+----------+-------------+--------+--------+----+-------+-----+----+\n",
      "|2013-01-01|          0.0|   140.0|   138.0| 2.7|    sun|    1|2013|\n",
      "|2013-01-02|          0.0|   142.0|   138.0| 3.2|    sun|    1|2013|\n",
      "|2013-01-12|          0.0|   140.0|   138.0| 2.0|    sun|    1|2013|\n",
      "|2013-01-13|          0.0|   140.0|   138.0| 1.5|    sun|    1|2013|\n",
      "|2013-01-14|          0.0|   140.0|   138.0| 1.3|    sun|    1|2013|\n",
      "|2013-01-15|          0.0|   142.0|   140.0| 2.3|    sun|    1|2013|\n",
      "|2013-02-08|          0.0|   142.0|   140.0| 1.3|    sun|    2|2013|\n",
      "|2013-02-19|          0.0|   142.0|   140.0| 3.4|    sun|    2|2013|\n",
      "|2013-03-03|          0.0|   142.0|   140.0| 2.8|    sun|    3|2013|\n",
      "|2013-03-04|          0.0|   144.0|   140.0| 3.9|    sun|    3|2013|\n",
      "|2013-03-17|          0.0|   142.0|   140.0| 6.1|    sun|    3|2013|\n",
      "|2013-03-22|          0.0|   142.0|   140.0| 2.2|    sun|    3|2013|\n",
      "|2013-03-23|          0.0|   142.0|   140.0| 2.6|    sun|    3|2013|\n",
      "|2013-03-24|          0.0|   144.0|   140.0| 2.1|    sun|    3|2013|\n",
      "|2013-03-25|          0.0|   145.0|   140.0| 2.8|    sun|    3|2013|\n",
      "|2013-03-26|          0.0|   145.0|   142.0| 1.7|    sun|    3|2013|\n",
      "|2013-03-31|          0.0|   145.0|   142.0| 2.9|    sun|    3|2013|\n",
      "|2013-04-01|          0.0|   145.0|   142.0| 3.6|    sun|    4|2013|\n",
      "|2013-04-02|          0.0|   144.0|   142.0| 2.2|    sun|    4|2013|\n",
      "|2013-04-03|          0.0|   145.0|   142.0| 1.6|    sun|    4|2013|\n",
      "+----------+-------------+--------+--------+----+-------+-----+----+\n",
      "only showing top 20 rows\n",
      "\n"
     ]
    }
   ],
   "source": [
    "# need average of both high and low temperatures \n",
    "# where weather = 'sunny'\n",
    "# and in July of only 2013 and 2014\n",
    "weather.filter(weather.weather == 'sun').where(weather.year == '2013').show()"
   ]
  },
  {
   "cell_type": "markdown",
   "id": "1574f328-e978-4b8b-a2a9-76ec30a53121",
   "metadata": {
    "tags": []
   },
   "source": [
    "### - What percentage of days were rainy in Q3 of 2015?"
   ]
  },
  {
   "cell_type": "code",
   "execution_count": null,
   "id": "dfd8aea6-ba33-4ead-aa84-38679455cb9a",
   "metadata": {},
   "outputs": [],
   "source": []
  },
  {
   "cell_type": "markdown",
   "id": "52d47a05-00f5-44e4-9272-92def88c90c2",
   "metadata": {
    "tags": []
   },
   "source": [
    "### - For each year, find what percentage of days it rained (had non-zero precipitation)."
   ]
  },
  {
   "cell_type": "code",
   "execution_count": null,
   "id": "41f816f0-34ca-42dc-9814-03268c1d78da",
   "metadata": {},
   "outputs": [],
   "source": []
  }
 ],
 "metadata": {
  "kernelspec": {
   "display_name": "Python 3 (ipykernel)",
   "language": "python",
   "name": "python3"
  },
  "language_info": {
   "codemirror_mode": {
    "name": "ipython",
    "version": 3
   },
   "file_extension": ".py",
   "mimetype": "text/x-python",
   "name": "python",
   "nbconvert_exporter": "python",
   "pygments_lexer": "ipython3",
   "version": "3.11.3"
  },
  "toc-autonumbering": true
 },
 "nbformat": 4,
 "nbformat_minor": 5
}
